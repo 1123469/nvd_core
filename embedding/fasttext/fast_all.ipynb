{
 "cells": [
  {
   "cell_type": "code",
   "execution_count": 1,
   "id": "c8932eeb",
   "metadata": {},
   "outputs": [],
   "source": [
    "import re\n",
    "from nltk.stem import WordNetLemmatizer\n",
    "\n",
    "\n",
    "def clean_text(text):\n",
    "    text = re.sub('[^a-zA-Z]', ' ', text)\n",
    "    words = text.lower().split()\n",
    "    lemmatizer = WordNetLemmatizer()\n",
    "    lem_words = [lemmatizer.lemmatize(w, pos='n') for w in words]\n",
    "    lem_words = [lemmatizer.lemmatize(w, pos='v') for w in lem_words]\n",
    "    stopwords = {}.fromkeys([line.rstrip() for line in open('F:\\\\PycharmProjects\\\\NVDproject\\\\nvdcve\\\\stopwords.txt')])\n",
    "    eng_stopwords = set(stopwords)\n",
    "    words = [w for w in lem_words if w not in eng_stopwords]\n",
    "    return words"
   ]
  },
  {
   "cell_type": "code",
   "execution_count": 2,
   "id": "35e66745",
   "metadata": {},
   "outputs": [],
   "source": [
    "import numpy as np\n",
    "from gensim.models import fasttext  # 导入gensim包\n",
    "import pandas as pd\n",
    "import tensorflow as tf\n",
    "\n",
    "years = ['2002','2003','2004','2005','2006','2007','2008','2009','2010','2011','2012','2013','2014','2015','2016','2017','2018','2019','2020','2021','2022']\n",
    "infix = ''\n",
    "infix = str(years[0])+\"to\"+str(years[len(years)-1])\n",
    "# 标记\n",
    "infix+='_no'\n",
    "# cwe_min_count = 500\n",
    "# cwe_min_count = 700\n",
    "# cwe_min_count = 2000\n",
    "# cwe_min_count = 2500\n",
    "cwe_min_count = 3000\n",
    "infix+='_'+str(cwe_min_count)\n",
    "vec_len = 100\n",
    "# vec_len = 200\n",
    "# vec_len = 300\n",
    "min_count = 1\n",
    "window_len = 5\n",
    "dense_unit = 128\n",
    "fast_model_path  = '..//..//models//fasttext//'+infix+\"_\"+str(vec_len)+\"_\"+str(min_count)+\"_\"+str(window_len)+'.pkl'\n",
    "label_path = '..\\\\..\\\\data\\\\clean\\\\nvdcve-1.1-'+infix+'_labels.csv'\n",
    "n=30\n",
    "\n",
    "cwe_count = 11\n",
    "pl_size = n\n",
    "\n",
    "\n",
    "def get_label_one_hot(list):\n",
    "    values = np.array(list)\n",
    "    n_values = np.max(values) + 1\n",
    "    return np.eye(n_values)[values]\n",
    "\n",
    "from tensorflow.keras.layers import Conv1D,Conv2D, BatchNormalization, Activation, MaxPool1D,MaxPool2D, Dropout, Flatten, Dense, GRU\n",
    "from tensorflow.keras import Model\n",
    "\n",
    "\n",
    "if __name__ == '__main__':\n",
    "    dataset = pd.read_csv(label_path, header=None)\n",
    "    fast_model = fasttext.FastText.load(fast_model_path)\n",
    "    dataset.columns = ['cve_id', 'cwe_id', 'descript', 'label']\n",
    "    dataset['contents'] = dataset['descript'].apply(clean_text)\n",
    "    train_dataset = []\n",
    "    for line in dataset['contents']:\n",
    "        length = len(line)\n",
    "        if length > n:\n",
    "            line = line[:n]\n",
    "            word2vec_matrix = (fast_model.wv[line])\n",
    "            train_dataset.append(word2vec_matrix)\n",
    "        else:\n",
    "            word2vec_matrix = (fast_model.wv[line])\n",
    "            pad_length = n - length\n",
    "            pad_matrix = np.zeros([pad_length, vec_len]) + 1e-10\n",
    "            word2vec_matrix = np.concatenate([word2vec_matrix, pad_matrix], axis=0)\n",
    "            train_dataset.append(word2vec_matrix)\n",
    "    # train_dataset = np.expand_dims(train_dataset, 3)\n",
    "    label_dataset = get_label_one_hot(dataset['label'])"
   ]
  },
  {
   "cell_type": "code",
   "execution_count": 3,
   "id": "bc31152d",
   "metadata": {},
   "outputs": [],
   "source": [
    "from sklearn.model_selection import train_test_split\n",
    "x_train, x_test, y_train, y_test = train_test_split(train_dataset, label_dataset, test_size=0.2, random_state=217)"
   ]
  },
  {
   "cell_type": "code",
   "execution_count": 4,
   "id": "47efe86d",
   "metadata": {},
   "outputs": [
    {
     "name": "stdout",
     "output_type": "stream",
     "text": [
      "68069 17018\n"
     ]
    }
   ],
   "source": [
    "print(len(x_train),len(x_test))"
   ]
  },
  {
   "cell_type": "code",
   "execution_count": 5,
   "id": "e4485810",
   "metadata": {},
   "outputs": [],
   "source": [
    "import keras_metrics as km\n",
    "from tensorflow.keras.metrics import Precision,Recall \n",
    "Metrics = ['accuracy',Precision(),Recall(),km.f1_score()]"
   ]
  },
  {
   "cell_type": "code",
   "execution_count": 6,
   "id": "6047c3f7",
   "metadata": {},
   "outputs": [
    {
     "name": "stdout",
     "output_type": "stream",
     "text": [
      "WARNING:tensorflow:Layer gru_1 will not use cuDNN kernel since it doesn't meet the cuDNN kernel criteria. It will use generic GPU kernel as fallback when running on GPU\n"
     ]
    }
   ],
   "source": [
    "from sklearn.model_selection import train_test_split\n",
    "from tensorflow.python.keras.models import Sequential\n",
    "    # 顺序模型\n",
    "model = Sequential()\n",
    "model.add(Conv1D(256, 3, padding='same', strides=1, activation='relu'))\n",
    "model.add(MaxPool1D(pool_size=2))\n",
    "# model.add(MaxPool1D(pool_size=n))\n",
    "model.add(GRU(256, return_sequences=True))\n",
    "model.add(GRU(256, dropout=0.5, recurrent_dropout=0.1))\n",
    "model.add(Dense(cwe_count, activation=\"softmax\"))\n",
    "x_train, x_test, y_train, y_test = train_test_split(train_dataset, label_dataset, test_size=0.2, random_state=217)\n",
    "batch_size = 32\n",
    "train_data = tf.data.Dataset.from_tensor_slices((x_train, y_train)).batch(batch_size)\n",
    "    \n",
    "#Metrics = ['accuracy']\n",
    "model.compile(optimizer=tf.optimizers.Adam(1e-3),\n",
    "                  loss=tf.losses.categorical_crossentropy, metrics=Metrics)\n"
   ]
  },
  {
   "cell_type": "code",
   "execution_count": 7,
   "id": "302e4dbc",
   "metadata": {},
   "outputs": [
    {
     "name": "stdout",
     "output_type": "stream",
     "text": [
      "Epoch 1/10\n",
      "WARNING:tensorflow:`add_update` `inputs` kwarg has been deprecated. You no longer need to pass a value to `inputs` as it is being automatically inferred.\n",
      "WARNING:tensorflow:`add_update` `inputs` kwarg has been deprecated. You no longer need to pass a value to `inputs` as it is being automatically inferred.\n",
      "WARNING:tensorflow:`add_update` `inputs` kwarg has been deprecated. You no longer need to pass a value to `inputs` as it is being automatically inferred.\n",
      "WARNING:tensorflow:`add_update` `inputs` kwarg has been deprecated. You no longer need to pass a value to `inputs` as it is being automatically inferred.\n"
     ]
    },
    {
     "name": "stderr",
     "output_type": "stream",
     "text": [
      "C:\\Users\\Lzh\\miniconda3\\envs\\TF2.4\\lib\\site-packages\\tensorflow\\python\\keras\\engine\\base_layer.py:1402: UserWarning: `layer.updates` will be removed in a future version. This property should not be used in TensorFlow 2.0, as `updates` are applied automatically.\n",
      "  warnings.warn('`layer.updates` will be removed in a future version. '\n"
     ]
    },
    {
     "name": "stdout",
     "output_type": "stream",
     "text": [
      "WARNING:tensorflow:`add_update` `inputs` kwarg has been deprecated. You no longer need to pass a value to `inputs` as it is being automatically inferred.\n",
      "WARNING:tensorflow:`add_update` `inputs` kwarg has been deprecated. You no longer need to pass a value to `inputs` as it is being automatically inferred.\n",
      "WARNING:tensorflow:`add_update` `inputs` kwarg has been deprecated. You no longer need to pass a value to `inputs` as it is being automatically inferred.\n",
      "WARNING:tensorflow:`add_update` `inputs` kwarg has been deprecated. You no longer need to pass a value to `inputs` as it is being automatically inferred.\n",
      "2128/2128 [==============================] - 106s 47ms/step - loss: 0.7734 - accuracy: 0.7253 - precision: 0.8478 - recall: 0.6396 - f1_score: 0.5008\n",
      "Epoch 2/10\n",
      "2128/2128 [==============================] - 100s 47ms/step - loss: 0.3734 - accuracy: 0.8774 - precision: 0.9036 - recall: 0.8533 - f1_score: 0.7994\n",
      "Epoch 3/10\n",
      "2128/2128 [==============================] - 100s 47ms/step - loss: 0.3227 - accuracy: 0.8941 - precision: 0.9156 - recall: 0.8755 - f1_score: 0.8326\n",
      "Epoch 4/10\n",
      "2128/2128 [==============================] - 100s 47ms/step - loss: 0.2823 - accuracy: 0.9084 - precision: 0.9242 - recall: 0.8930 - f1_score: 0.8667\n",
      "Epoch 5/10\n",
      "2128/2128 [==============================] - 101s 48ms/step - loss: 0.2427 - accuracy: 0.9213 - precision: 0.9347 - recall: 0.9093 - f1_score: 0.8812\n",
      "Epoch 6/10\n",
      "2128/2128 [==============================] - 101s 47ms/step - loss: 0.2076 - accuracy: 0.9327 - precision: 0.9420 - recall: 0.9234 - f1_score: 0.9016\n",
      "Epoch 7/10\n",
      "2128/2128 [==============================] - 100s 47ms/step - loss: 0.1753 - accuracy: 0.9436 - precision: 0.9514 - recall: 0.9364 - f1_score: 0.9161\n",
      "Epoch 8/10\n",
      "2128/2128 [==============================] - 101s 47ms/step - loss: 0.1493 - accuracy: 0.9505 - precision: 0.9576 - recall: 0.9459 - f1_score: 0.9280\n",
      "Epoch 9/10\n",
      "2128/2128 [==============================] - 101s 47ms/step - loss: 0.1277 - accuracy: 0.9592 - precision: 0.9641 - recall: 0.9554 - f1_score: 0.9448\n",
      "Epoch 10/10\n",
      "2128/2128 [==============================] - 101s 48ms/step - loss: 0.1136 - accuracy: 0.9630 - precision: 0.9663 - recall: 0.9590 - f1_score: 0.9454\n",
      "WARNING:tensorflow:`add_update` `inputs` kwarg has been deprecated. You no longer need to pass a value to `inputs` as it is being automatically inferred.\n",
      "WARNING:tensorflow:`add_update` `inputs` kwarg has been deprecated. You no longer need to pass a value to `inputs` as it is being automatically inferred.\n",
      "WARNING:tensorflow:`add_update` `inputs` kwarg has been deprecated. You no longer need to pass a value to `inputs` as it is being automatically inferred.\n",
      "WARNING:tensorflow:`add_update` `inputs` kwarg has been deprecated. You no longer need to pass a value to `inputs` as it is being automatically inferred.\n",
      "532/532 [==============================] - 5s 9ms/step - loss: 0.5440 - accuracy: 0.8849 - precision: 0.8904 - recall: 0.8817 - f1_score: 0.8451\n",
      "last score: [0.5440249443054199, 0.8848865628242493, 0.8903987407684326, 0.8817135095596313, 0.8450751900672913]\n",
      "Model: \"sequential\"\n",
      "_________________________________________________________________\n",
      "Layer (type)                 Output Shape              Param #   \n",
      "=================================================================\n",
      "conv1d (Conv1D)              (None, 30, 256)           77056     \n",
      "_________________________________________________________________\n",
      "max_pooling1d (MaxPooling1D) (None, 15, 256)           0         \n",
      "_________________________________________________________________\n",
      "gru (GRU)                    (None, 15, 256)           394752    \n",
      "_________________________________________________________________\n",
      "gru_1 (GRU)                  (None, 256)               394752    \n",
      "_________________________________________________________________\n",
      "dense (Dense)                (None, 11)                2827      \n",
      "=================================================================\n",
      "Total params: 869,387\n",
      "Trainable params: 869,387\n",
      "Non-trainable params: 0\n",
      "_________________________________________________________________\n",
      "None\n"
     ]
    }
   ],
   "source": [
    "history = model.fit(train_data, epochs=10)\n",
    "score = model.evaluate(np.array(x_test), y_test)\n",
    "print('last score:', score)\n",
    "print(model.summary())"
   ]
  },
  {
   "cell_type": "code",
   "execution_count": 8,
   "id": "24b5520a",
   "metadata": {},
   "outputs": [],
   "source": [
    "import matplotlib.pyplot as plt\n",
    "def print_history(history):\n",
    "    # 绘制训练 & 验证的准确率值\n",
    "    plt.plot(history.history['accuracy'])\n",
    "    plt.plot(history.history['val_accuracy'])\n",
    "    plt.plot(history.history['loss'])\n",
    "    plt.plot(history.history['val_loss'])\n",
    "    plt.title('Model accuracy&loss')\n",
    "    plt.xlabel('Epoch')\n",
    "    plt.legend(['Train_acc', 'Val_acc', 'Train_loss', 'Val_loss'])\n",
    "    plt.show()"
   ]
  },
  {
   "cell_type": "code",
   "execution_count": 6,
   "id": "53070f7c",
   "metadata": {},
   "outputs": [
    {
     "name": "stdout",
     "output_type": "stream",
     "text": [
      "{'loss': [0.5362193584442139, 0.36194998025894165, 0.31437331438064575, 0.274202823638916, 0.23500196635723114, 0.1981135606765747, 0.16954921185970306, 0.144243061542511, 0.1218026727437973, 0.10748542100191116], 'accuracy': [0.8158045411109924, 0.8797690868377686, 0.8966196179389954, 0.9101353287696838, 0.9242092370986938, 0.9358298182487488, 0.9454083442687988, 0.9539437890052795, 0.9608485698699951, 0.9649620056152344], 'precision': [0.8773637413978577, 0.9050509333610535, 0.915477454662323, 0.9256190657615662, 0.936574399471283, 0.9451414942741394, 0.9528075456619263, 0.9597384333610535, 0.9651815891265869, 0.9691581130027771], 'recall': [0.7681910991668701, 0.8586875200271606, 0.8802538514137268, 0.8961789011955261, 0.9132938385009766, 0.9273825287818909, 0.9390618205070496, 0.9486843943595886, 0.9570142030715942, 0.9615978002548218], 'f1_score': [0.6497175693511963, 0.8165560960769653, 0.8439810872077942, 0.8634837865829468, 0.8843351006507874, 0.8979121446609497, 0.9145788550376892, 0.9263433814048767, 0.9346603155136108, 0.9441054463386536]}\n"
     ]
    }
   ],
   "source": [
    "print(history.history)\n"
   ]
  },
  {
   "cell_type": "code",
   "execution_count": 16,
   "id": "ef03b5fe",
   "metadata": {},
   "outputs": [
    {
     "data": {
      "image/png": "[encoded data removed]",
      "text/plain": [
       "<Figure size 640x480 with 1 Axes>"
      ]
     },
     "metadata": {},
     "output_type": "display_data"
    }
   ],
   "source": [
    "# plt.plot(history.history['accuracy'])\n",
    "# plt.plot(history.history['precision'])\n",
    "# plt.plot(history.history['recall'])\n",
    "# plt.plot(history.history['f1_score'])\n",
    "plt.plot(history.history['loss'])\n",
    "plt.title('FastText')\n",
    "plt.xlabel('Epoch')\n",
    "# plt.legend(['Accuracy','Precision','Recall','F1-Score'])\n",
    "plt.legend(['Loss'])\n",
    "plt.savefig('E:\\软件开发实践\\毕设项目\\论文\\ss_pku_thesis\\pic\\FastText_loss.png')"
   ]
  },
  {
   "cell_type": "code",
   "execution_count": 14,
   "id": "d1b892f9",
   "metadata": {},
   "outputs": [
    {
     "data": {
      "text/plain": [
       "<Figure size 640x480 with 0 Axes>"
      ]
     },
     "metadata": {},
     "output_type": "display_data"
    }
   ],
   "source": [
    "plt.savefig('E:\\软件开发实践\\毕设项目\\论文\\ss_pku_thesis\\pic\\FastText.png')"
   ]
  }
 ],
 "metadata": {
  "kernelspec": {
   "display_name": "Python 3 (ipykernel)",
   "language": "python",
   "name": "python3"
  },
  "language_info": {
   "codemirror_mode": {
    "name": "ipython",
    "version": 3
   },
   "file_extension": ".py",
   "mimetype": "text/x-python",
   "name": "python",
   "nbconvert_exporter": "python",
   "pygments_lexer": "ipython3",
   "version": "3.7.15"
  }
 },
 "nbformat": 4,
 "nbformat_minor": 5
}
