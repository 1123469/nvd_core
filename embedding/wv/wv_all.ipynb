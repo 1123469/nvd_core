{
 "cells": [
  {
   "cell_type": "code",
   "execution_count": 1,
   "id": "9f8adff7",
   "metadata": {},
   "outputs": [],
   "source": [
    "import re\n",
    "from nltk.stem import WordNetLemmatizer\n",
    "\n",
    "\n",
    "def clean_text(text):\n",
    "    text = re.sub('[^a-zA-Z]', ' ', text)\n",
    "    words = text.lower().split()\n",
    "    lemmatizer = WordNetLemmatizer()\n",
    "    lem_words = [lemmatizer.lemmatize(w, pos='n') for w in words]\n",
    "    lem_words = [lemmatizer.lemmatize(w, pos='v') for w in lem_words]\n",
    "    stopwords = {}.fromkeys([line.rstrip() for line in open('F:\\\\PycharmProjects\\\\NVDproject\\\\nvdcve\\\\stopwords.txt')])\n",
    "    eng_stopwords = set(stopwords)\n",
    "    words = [w for w in lem_words if w not in eng_stopwords]\n",
    "    return words"
   ]
  },
  {
   "cell_type": "code",
   "execution_count": 2,
   "id": "1b7dda29",
   "metadata": {},
   "outputs": [],
   "source": [
    "import numpy as np\n",
    "import pandas as pd\n",
    "import tensorflow as tf\n",
    "from gensim.models import word2vec  # 导入gensim包\n",
    "from tensorflow.python.keras.models import Sequential\n",
    "\n",
    "years = ['2002','2003','2004','2005','2006','2007','2008','2009','2010','2011','2012','2013','2014','2015','2016','2017','2018','2019','2020','2021','2022']\n",
    "infix = ''\n",
    "infix = str(years[0])+\"to\"+str(years[len(years)-1])\n",
    "infix+='_no'\n",
    "\n",
    "cwe_min_count = 3000\n",
    "\n",
    "\n",
    "infix+='_'+str(cwe_min_count)\n",
    "\n",
    "vec_len = 100\n",
    "# vec_len = 200\n",
    "# vec_len = 300\n",
    "min_count = 1\n",
    "window_len = 5\n",
    "# dense_unit = 128\n",
    "dense_unit = 256\n",
    "wv_model_path  = '..//..//models//wv//'+infix+\"_\"+str(vec_len)+\"_\"+str(min_count)+\"_\"+str(window_len)+'.pkl'\n",
    "label_path = '..\\\\..\\\\data\\\\clean\\\\nvdcve-1.1-'+infix+'_labels.csv'\n",
    "n=30\n",
    "\n",
    "cwe_count = 11\n",
    "\n",
    "def get_label_one_hot(list):\n",
    "    values = np.array(list)\n",
    "    n_values = np.max(values) + 1\n",
    "    return np.eye(n_values)[values]\n",
    "\n",
    "from tensorflow.keras.layers import Conv1D,Conv2D, BatchNormalization, Activation, MaxPool1D,MaxPool2D, Dropout, Flatten, Dense, GRU\n",
    "from tensorflow.keras import Model"
   ]
  },
  {
   "cell_type": "code",
   "execution_count": 3,
   "id": "67797115",
   "metadata": {},
   "outputs": [
    {
     "name": "stdout",
     "output_type": "stream",
     "text": [
      "WARNING:tensorflow:Layer gru_1 will not use cuDNN kernel since it doesn't meet the cuDNN kernel criteria. It will use generic GPU kernel as fallback when running on GPU\n"
     ]
    }
   ],
   "source": [
    "if __name__ == '__main__':\n",
    "    wv_model = word2vec.Word2Vec.load(wv_model_path)\n",
    "    dataset = pd.read_csv(label_path, header=None)\n",
    "    dataset.columns = ['cve_id', 'cwe_id', 'descript', 'label']\n",
    "    dataset['contents'] = dataset['descript'].apply(clean_text)\n",
    "    train_dataset = []\n",
    "    for line in dataset['contents']:\n",
    "        length = len(line)\n",
    "        if length > n:\n",
    "            line = line[:n]\n",
    "            word2vec_matrix = (wv_model.wv[line])\n",
    "            train_dataset.append(word2vec_matrix)\n",
    "        else:\n",
    "            word2vec_matrix = (wv_model.wv[line])\n",
    "            pad_length = n - length\n",
    "            pad_matrix = np.zeros([pad_length, vec_len]) + 1e-10\n",
    "            word2vec_matrix = np.concatenate([word2vec_matrix, pad_matrix], axis=0)\n",
    "            train_dataset.append(word2vec_matrix)\n",
    "    # train_dataset = np.expand_dims(train_dataset, 3)\n",
    "    label_dataset = get_label_one_hot(dataset['label'])\n",
    "\n",
    "    from sklearn.model_selection import train_test_split\n",
    "    import keras_metrics as km\n",
    "    from tensorflow.keras.metrics import Precision,Recall \n",
    "    Metrics = ['accuracy',Precision(),Recall(),km.f1_score()]\n",
    "    # 顺序模型\n",
    "    model = Sequential()\n",
    "    model.add(Conv1D(256, 3, padding='same', strides=1, activation='relu'))\n",
    "    model.add(MaxPool1D(pool_size=2))\n",
    "    model.add(GRU(256, return_sequences=True))\n",
    "    model.add(GRU(256,dropout=0.5, recurrent_dropout=0.1))\n",
    "    model.add(Dense(cwe_count,activation=\"softmax\"))\n",
    "\n",
    "    x_train, x_test, y_train, y_test = train_test_split(train_dataset, label_dataset, test_size=0.2, random_state=217)\n",
    "    batch_size = 32\n",
    "    train_data = tf.data.Dataset.from_tensor_slices((x_train, y_train)).batch(batch_size)"
   ]
  },
  {
   "cell_type": "code",
   "execution_count": 4,
   "id": "c8a270ac",
   "metadata": {},
   "outputs": [
    {
     "name": "stdout",
     "output_type": "stream",
     "text": [
      "Epoch 1/10\n",
      "WARNING:tensorflow:`add_update` `inputs` kwarg has been deprecated. You no longer need to pass a value to `inputs` as it is being automatically inferred.\n",
      "WARNING:tensorflow:`add_update` `inputs` kwarg has been deprecated. You no longer need to pass a value to `inputs` as it is being automatically inferred.\n",
      "WARNING:tensorflow:`add_update` `inputs` kwarg has been deprecated. You no longer need to pass a value to `inputs` as it is being automatically inferred.\n",
      "WARNING:tensorflow:`add_update` `inputs` kwarg has been deprecated. You no longer need to pass a value to `inputs` as it is being automatically inferred.\n"
     ]
    },
    {
     "name": "stderr",
     "output_type": "stream",
     "text": [
      "C:\\Users\\Lzh\\miniconda3\\envs\\TF2.4\\lib\\site-packages\\tensorflow\\python\\keras\\engine\\base_layer.py:1402: UserWarning: `layer.updates` will be removed in a future version. This property should not be used in TensorFlow 2.0, as `updates` are applied automatically.\n",
      "  warnings.warn('`layer.updates` will be removed in a future version. '\n"
     ]
    },
    {
     "name": "stdout",
     "output_type": "stream",
     "text": [
      "WARNING:tensorflow:`add_update` `inputs` kwarg has been deprecated. You no longer need to pass a value to `inputs` as it is being automatically inferred.\n",
      "WARNING:tensorflow:`add_update` `inputs` kwarg has been deprecated. You no longer need to pass a value to `inputs` as it is being automatically inferred.\n",
      "WARNING:tensorflow:`add_update` `inputs` kwarg has been deprecated. You no longer need to pass a value to `inputs` as it is being automatically inferred.\n",
      "WARNING:tensorflow:`add_update` `inputs` kwarg has been deprecated. You no longer need to pass a value to `inputs` as it is being automatically inferred.\n",
      "2128/2128 [==============================] - 372s 170ms/step - loss: 0.6716 - accuracy: 0.7692 - precision: 0.8590 - recall: 0.7041 - f1_score: 0.5910\n",
      "Epoch 2/10\n",
      "2128/2128 [==============================] - 362s 170ms/step - loss: 0.3707 - accuracy: 0.8805 - precision: 0.9062 - recall: 0.8571 - f1_score: 0.8256\n",
      "Epoch 3/10\n",
      "2128/2128 [==============================] - 356s 167ms/step - loss: 0.3209 - accuracy: 0.8928 - precision: 0.9157 - recall: 0.8746 - f1_score: 0.8386 - loss: 0.3211 - accuracy: 0.8928 -\n",
      "Epoch 4/10\n",
      "2128/2128 [==============================] - 365s 172ms/step - loss: 0.2815 - accuracy: 0.9042 - precision: 0.9212 - recall: 0.8901 - f1_score: 0.8509\n",
      "Epoch 5/10\n",
      "2128/2128 [==============================] - 358s 168ms/step - loss: 0.2544 - accuracy: 0.9134 - precision: 0.9287 - recall: 0.9013 - f1_score: 0.8584\n",
      "Epoch 6/10\n",
      "2128/2128 [==============================] - 358s 168ms/step - loss: 0.2294 - accuracy: 0.9214 - precision: 0.9342 - recall: 0.9114 - f1_score: 0.8795\n",
      "Epoch 7/10\n",
      "2128/2128 [==============================] - 360s 169ms/step - loss: 0.2112 - accuracy: 0.9265 - precision: 0.9380 - recall: 0.9177 - f1_score: 0.8860\n",
      "Epoch 8/10\n",
      "2128/2128 [==============================] - 349s 164ms/step - loss: 0.1972 - accuracy: 0.9321 - precision: 0.9419 - recall: 0.9238 - f1_score: 0.8931\n",
      "Epoch 9/10\n",
      "2128/2128 [==============================] - 361s 170ms/step - loss: 0.1847 - accuracy: 0.9359 - precision: 0.9436 - recall: 0.9299 - f1_score: 0.8993 - loss: 0.184\n",
      "Epoch 10/10\n",
      "2128/2128 [==============================] - 351s 165ms/step - loss: 0.1798 - accuracy: 0.9387 - precision: 0.9468 - recall: 0.9317 - f1_score: 0.9058\n",
      "WARNING:tensorflow:`add_update` `inputs` kwarg has been deprecated. You no longer need to pass a value to `inputs` as it is being automatically inferred.\n",
      "WARNING:tensorflow:`add_update` `inputs` kwarg has been deprecated. You no longer need to pass a value to `inputs` as it is being automatically inferred.\n",
      "WARNING:tensorflow:`add_update` `inputs` kwarg has been deprecated. You no longer need to pass a value to `inputs` as it is being automatically inferred.\n",
      "WARNING:tensorflow:`add_update` `inputs` kwarg has been deprecated. You no longer need to pass a value to `inputs` as it is being automatically inferred.\n",
      "532/532 [==============================] - 15s 26ms/step - loss: 0.4424 - accuracy: 0.8797 - precision: 0.8898 - recall: 0.8733 - f1_score: 0.8357\n",
      "last score: [0.4423881769180298, 0.8796568512916565, 0.8898269534111023, 0.8732518553733826, 0.8357284069061279]\n",
      "Model: \"sequential\"\n",
      "_________________________________________________________________\n",
      "Layer (type)                 Output Shape              Param #   \n",
      "=================================================================\n",
      "conv1d (Conv1D)              (None, 30, 256)           77056     \n",
      "_________________________________________________________________\n",
      "max_pooling1d (MaxPooling1D) (None, 15, 256)           0         \n",
      "_________________________________________________________________\n",
      "gru (GRU)                    (None, 15, 256)           394752    \n",
      "_________________________________________________________________\n",
      "gru_1 (GRU)                  (None, 256)               394752    \n",
      "_________________________________________________________________\n",
      "dense (Dense)                (None, 11)                2827      \n",
      "=================================================================\n",
      "Total params: 869,387\n",
      "Trainable params: 869,387\n",
      "Non-trainable params: 0\n",
      "_________________________________________________________________\n",
      "None\n"
     ]
    }
   ],
   "source": [
    "model.compile(optimizer=tf.optimizers.Adam(1e-3),\n",
    "                  loss=tf.losses.categorical_crossentropy, metrics=Metrics)\n",
    "history = model.fit(train_data, epochs=10)\n",
    "score = model.evaluate(np.array(x_test), y_test)\n",
    "print('last score:', score)\n",
    "print(model.summary())"
   ]
  }
 ],
 "metadata": {
  "kernelspec": {
   "display_name": "Python 3 (ipykernel)",
   "language": "python",
   "name": "python3"
  },
  "language_info": {
   "codemirror_mode": {
    "name": "ipython",
    "version": 3
   },
   "file_extension": ".py",
   "mimetype": "text/x-python",
   "name": "python",
   "nbconvert_exporter": "python",
   "pygments_lexer": "ipython3",
   "version": "3.7.15"
  }
 },
 "nbformat": 4,
 "nbformat_minor": 5
}
