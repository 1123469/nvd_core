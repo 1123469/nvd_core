{
 "cells": [
  {
   "cell_type": "code",
   "execution_count": 1,
   "id": "9f8adff7",
   "metadata": {},
   "outputs": [],
   "source": [
    "import re\n",
    "from nltk.stem import WordNetLemmatizer\n",
    "\n",
    "\n",
    "def clean_text(text):\n",
    "    text = re.sub('[^a-zA-Z]', ' ', text)\n",
    "    words = text.lower().split()\n",
    "    lemmatizer = WordNetLemmatizer()\n",
    "    lem_words = [lemmatizer.lemmatize(w, pos='n') for w in words]\n",
    "    lem_words = [lemmatizer.lemmatize(w, pos='v') for w in lem_words]\n",
    "    stopwords = {}.fromkeys([line.rstrip() for line in open('F:\\\\PycharmProjects\\\\NVDproject\\\\nvdcve\\\\stopwords.txt')])\n",
    "    eng_stopwords = set(stopwords)\n",
    "    words = [w for w in lem_words if w not in eng_stopwords]\n",
    "    return words"
   ]
  },
  {
   "cell_type": "code",
   "execution_count": 3,
   "id": "1b7dda29",
   "metadata": {},
   "outputs": [],
   "source": [
    "import numpy as np\n",
    "import pandas as pd\n",
    "import tensorflow as tf\n",
    "from gensim.models import word2vec  # 导入gensim包\n",
    "from tensorflow.python.keras.models import Sequential\n",
    "\n",
    "years = ['2002','2003','2004','2005','2006','2007','2008','2009','2010','2011','2012','2013','2014','2015','2016','2017','2018','2019','2020','2021','2022']\n",
    "infix = ''\n",
    "infix = str(years[0])+\"to\"+str(years[len(years)-1])\n",
    "infix+='_no'\n",
    "\n",
    "cwe_min_count = 3000\n",
    "\n",
    "\n",
    "infix+='_'+str(cwe_min_count)\n",
    "\n",
    "vec_len = 100\n",
    "# vec_len = 200\n",
    "# vec_len = 300\n",
    "min_count = 1\n",
    "window_len = 5\n",
    "# dense_unit = 128\n",
    "dense_unit = 256\n",
    "wv_model_path  = '..//..//models//wv//'+infix+\"_\"+str(vec_len)+\"_\"+str(min_count)+\"_\"+str(window_len)+'.pkl'\n",
    "label_path = '..\\\\..\\\\data\\\\clean\\\\nvdcve-1.1-'+infix+'_labels.csv'\n",
    "n=30\n",
    "\n",
    "cwe_count = 11\n",
    "\n",
    "def get_label_one_hot(list):\n",
    "    values = np.array(list)\n",
    "    n_values = np.max(values) + 1\n",
    "    return np.eye(n_values)[values]\n",
    "\n",
    "from tensorflow.keras.layers import Conv1D,Conv2D, BatchNormalization, Activation, MaxPool1D,MaxPool2D, Dropout, Flatten, Dense, GRU\n",
    "from tensorflow.keras import Model"
   ]
  },
  {
   "cell_type": "code",
   "execution_count": 4,
   "id": "67797115",
   "metadata": {},
   "outputs": [
    {
     "name": "stdout",
     "output_type": "stream",
     "text": [
      "WARNING:tensorflow:Layer gru_1 will not use cuDNN kernel since it doesn't meet the cuDNN kernel criteria. It will use generic GPU kernel as fallback when running on GPU\n"
     ]
    }
   ],
   "source": [
    "if __name__ == '__main__':\n",
    "    wv_model = word2vec.Word2Vec.load(wv_model_path)\n",
    "    dataset = pd.read_csv(label_path, header=None)\n",
    "    dataset.columns = ['cve_id', 'cwe_id', 'descript', 'label']\n",
    "    dataset['contents'] = dataset['descript'].apply(clean_text)\n",
    "    train_dataset = []\n",
    "    for line in dataset['contents']:\n",
    "        length = len(line)\n",
    "        if length > n:\n",
    "            line = line[:n]\n",
    "            word2vec_matrix = (wv_model.wv[line])\n",
    "            train_dataset.append(word2vec_matrix)\n",
    "        else:\n",
    "            word2vec_matrix = (wv_model.wv[line])\n",
    "            pad_length = n - length\n",
    "            pad_matrix = np.zeros([pad_length, vec_len]) + 1e-10\n",
    "            word2vec_matrix = np.concatenate([word2vec_matrix, pad_matrix], axis=0)\n",
    "            train_dataset.append(word2vec_matrix)\n",
    "    # train_dataset = np.expand_dims(train_dataset, 3)\n",
    "    label_dataset = get_label_one_hot(dataset['label'])\n",
    "\n",
    "    from sklearn.model_selection import train_test_split\n",
    "    import keras_metrics as km\n",
    "    from tensorflow.keras.metrics import Precision,Recall \n",
    "    Metrics = ['accuracy',Precision(),Recall(),km.f1_score()]\n",
    "    # 顺序模型\n",
    "    model = Sequential()\n",
    "    model.add(Conv1D(256, 3, padding='same', strides=1, activation='relu'))\n",
    "    model.add(MaxPool1D(pool_size=2))\n",
    "    model.add(GRU(256, return_sequences=True))\n",
    "    model.add(GRU(256,dropout=0.5, recurrent_dropout=0.1))\n",
    "    model.add(Dense(cwe_count,activation=\"softmax\"))\n",
    "\n",
    "    x_train, x_test, y_train, y_test = train_test_split(train_dataset, label_dataset, test_size=0.2, random_state=217)\n",
    "    batch_size = 32\n",
    "    train_data = tf.data.Dataset.from_tensor_slices((x_train, y_train)).batch(batch_size)"
   ]
  },
  {
   "cell_type": "code",
   "execution_count": 5,
   "id": "c8a270ac",
   "metadata": {},
   "outputs": [
    {
     "name": "stdout",
     "output_type": "stream",
     "text": [
      "Epoch 1/10\n",
      "WARNING:tensorflow:`add_update` `inputs` kwarg has been deprecated. You no longer need to pass a value to `inputs` as it is being automatically inferred.\n",
      "WARNING:tensorflow:`add_update` `inputs` kwarg has been deprecated. You no longer need to pass a value to `inputs` as it is being automatically inferred.\n",
      "WARNING:tensorflow:`add_update` `inputs` kwarg has been deprecated. You no longer need to pass a value to `inputs` as it is being automatically inferred.\n",
      "WARNING:tensorflow:`add_update` `inputs` kwarg has been deprecated. You no longer need to pass a value to `inputs` as it is being automatically inferred.\n"
     ]
    },
    {
     "name": "stderr",
     "output_type": "stream",
     "text": [
      "C:\\Users\\Lzh\\miniconda3\\envs\\TF2.4\\lib\\site-packages\\tensorflow\\python\\keras\\engine\\base_layer.py:1402: UserWarning: `layer.updates` will be removed in a future version. This property should not be used in TensorFlow 2.0, as `updates` are applied automatically.\n",
      "  warnings.warn('`layer.updates` will be removed in a future version. '\n"
     ]
    },
    {
     "name": "stdout",
     "output_type": "stream",
     "text": [
      "WARNING:tensorflow:`add_update` `inputs` kwarg has been deprecated. You no longer need to pass a value to `inputs` as it is being automatically inferred.\n",
      "WARNING:tensorflow:`add_update` `inputs` kwarg has been deprecated. You no longer need to pass a value to `inputs` as it is being automatically inferred.\n",
      "WARNING:tensorflow:`add_update` `inputs` kwarg has been deprecated. You no longer need to pass a value to `inputs` as it is being automatically inferred.\n",
      "WARNING:tensorflow:`add_update` `inputs` kwarg has been deprecated. You no longer need to pass a value to `inputs` as it is being automatically inferred.\n",
      "2128/2128 [==============================] - 300s 136ms/step - loss: 0.6756 - accuracy: 0.7688 - precision: 0.8570 - recall: 0.7015 - f1_score: 0.5819\n",
      "Epoch 2/10\n",
      "2128/2128 [==============================] - 263s 124ms/step - loss: 0.3727 - accuracy: 0.8784 - precision: 0.9048 - recall: 0.8569 - f1_score: 0.8226\n",
      "Epoch 3/10\n",
      "2128/2128 [==============================] - 313s 147ms/step - loss: 0.3219 - accuracy: 0.8941 - precision: 0.9144 - recall: 0.8753 - f1_score: 0.8357\n",
      "Epoch 4/10\n",
      "2128/2128 [==============================] - 326s 153ms/step - loss: 0.2871 - accuracy: 0.9042 - precision: 0.9221 - recall: 0.8898 - f1_score: 0.8494\n",
      "Epoch 5/10\n",
      "2128/2128 [==============================] - 317s 149ms/step - loss: 0.2556 - accuracy: 0.9147 - precision: 0.9290 - recall: 0.9019 - f1_score: 0.8653\n",
      "Epoch 6/10\n",
      "2128/2128 [==============================] - 318s 150ms/step - loss: 0.2327 - accuracy: 0.9214 - precision: 0.9333 - recall: 0.9105 - f1_score: 0.8725\n",
      "Epoch 7/10\n",
      "2128/2128 [==============================] - 240s 113ms/step - loss: 0.2130 - accuracy: 0.9286 - precision: 0.9403 - recall: 0.9197 - f1_score: 0.8897\n",
      "Epoch 8/10\n",
      "2128/2128 [==============================] - 102s 48ms/step - loss: 0.1993 - accuracy: 0.9321 - precision: 0.9419 - recall: 0.9238 - f1_score: 0.8913\n",
      "Epoch 9/10\n",
      "2128/2128 [==============================] - 102s 48ms/step - loss: 0.1880 - accuracy: 0.9357 - precision: 0.9438 - recall: 0.9285 - f1_score: 0.9011\n",
      "Epoch 10/10\n",
      "2128/2128 [==============================] - 102s 48ms/step - loss: 0.1780 - accuracy: 0.9392 - precision: 0.9464 - recall: 0.9329 - f1_score: 0.8991\n",
      "WARNING:tensorflow:`add_update` `inputs` kwarg has been deprecated. You no longer need to pass a value to `inputs` as it is being automatically inferred.\n",
      "WARNING:tensorflow:`add_update` `inputs` kwarg has been deprecated. You no longer need to pass a value to `inputs` as it is being automatically inferred.\n",
      "WARNING:tensorflow:`add_update` `inputs` kwarg has been deprecated. You no longer need to pass a value to `inputs` as it is being automatically inferred.\n",
      "WARNING:tensorflow:`add_update` `inputs` kwarg has been deprecated. You no longer need to pass a value to `inputs` as it is being automatically inferred.\n",
      "532/532 [==============================] - 5s 9ms/step - loss: 0.4332 - accuracy: 0.8855 - precision: 0.8929 - recall: 0.8791 - f1_score: 0.8323\n",
      "last score: [0.4331887662410736, 0.8854742050170898, 0.8929274678230286, 0.8791279792785645, 0.8323113918304443]\n",
      "Model: \"sequential\"\n",
      "_________________________________________________________________\n",
      "Layer (type)                 Output Shape              Param #   \n",
      "=================================================================\n",
      "conv1d (Conv1D)              (None, 30, 256)           77056     \n",
      "_________________________________________________________________\n",
      "max_pooling1d (MaxPooling1D) (None, 15, 256)           0         \n",
      "_________________________________________________________________\n",
      "gru (GRU)                    (None, 15, 256)           394752    \n",
      "_________________________________________________________________\n",
      "gru_1 (GRU)                  (None, 256)               394752    \n",
      "_________________________________________________________________\n",
      "dense (Dense)                (None, 11)                2827      \n",
      "=================================================================\n",
      "Total params: 869,387\n",
      "Trainable params: 869,387\n",
      "Non-trainable params: 0\n",
      "_________________________________________________________________\n",
      "None\n"
     ]
    }
   ],
   "source": [
    "model.compile(optimizer=tf.optimizers.Adam(1e-3),\n",
    "                  loss=tf.losses.categorical_crossentropy, metrics=Metrics)\n",
    "history = model.fit(train_data, epochs=10)\n",
    "score = model.evaluate(np.array(x_test), y_test)\n",
    "print('last score:', score)\n",
    "print(model.summary())"
   ]
  }
 ],
 "metadata": {
  "kernelspec": {
   "display_name": "Python 3 (ipykernel)",
   "language": "python",
   "name": "python3"
  },
  "language_info": {
   "codemirror_mode": {
    "name": "ipython",
    "version": 3
   },
   "file_extension": ".py",
   "mimetype": "text/x-python",
   "name": "python",
   "nbconvert_exporter": "python",
   "pygments_lexer": "ipython3",
   "version": "3.7.15"
  }
 },
 "nbformat": 4,
 "nbformat_minor": 5
}
