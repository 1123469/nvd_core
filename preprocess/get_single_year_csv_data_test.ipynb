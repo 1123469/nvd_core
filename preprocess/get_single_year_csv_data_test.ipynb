{
 "cells": [
  {
   "cell_type": "code",
   "execution_count": 13,
   "id": "a5a6e759",
   "metadata": {},
   "outputs": [
    {
     "name": "stdout",
     "output_type": "stream",
     "text": [
      "E:\\软件开发实践\\毕设项目\\NVDProject\\nvd_core\\preprocess\n"
     ]
    }
   ],
   "source": [
    "import os\n",
    "print(os.getcwd())\n",
    "\"\"\"\n",
    "encapsulate the method of json_to_csv\n",
    "\"\"\"\n",
    "import pandas as pd\n",
    "import json\n",
    "\n",
    "def json_to_csv_append(year,path):\n",
    "    with open('..\\\\data\\\\raw\\\\nvdcve_json\\\\nvdcve-1.1-'+year+'.json','r',encoding='utf-8') as f:\n",
    "        data = json.load(f)\n",
    "    list_y = data['CVE_Items']\n",
    "    cve_cwe_list = []\n",
    "    cve_id_list = []\n",
    "    cve_des_list = []\n",
    "    for cve in list_y:\n",
    "        cve_id_list.append(cve['cve']['CVE_data_meta']['ID'])\n",
    "        cwe_value_pre = cve['cve']['problemtype']['problemtype_data'][0]['description']\n",
    "        for value in cwe_value_pre:\n",
    "            cwe_value = value\n",
    "        cve_cwe_list.append(cwe_value['value'])\n",
    "        cve_des_list.append(cve['cve']['description']['description_data'][0]['value'])\n",
    "    cve_dic = {'cve_id':cve_id_list,'cwe_id':cve_cwe_list,'descript':cve_des_list}\n",
    "    df = pd.DataFrame(cve_dic)\n",
    "    df = df[~df['cwe_id'].str.contains('noinfo')]\n",
    "    df.to_csv(path,header=False,index = False,mode='a')\n",
    "\n",
    "def json_to_csv_override(year,path):\n",
    "    with open('..\\\\data\\\\raw\\\\nvdcve_json\\\\nvdcve-1.1-'+year+'.json','r',encoding='utf-8') as f:\n",
    "        data = json.load(f)\n",
    "    list_y = data['CVE_Items']\n",
    "    cve_cwe_list = []\n",
    "    cve_id_list = []\n",
    "    cve_des_list = []\n",
    "    for cve in list_y:\n",
    "        cwe_value_pre = cve['cve']['problemtype']['problemtype_data'][0]['description']\n",
    "        if len(cwe_value_pre)==0:\n",
    "            continue\n",
    "        cve_id_list.append(cve['cve']['CVE_data_meta']['ID'])\n",
    "        for value in cwe_value_pre:\n",
    "            cwe_value = value\n",
    "        cve_cwe_list.append(cwe_value['value'])\n",
    "        cve_des_list.append(cve['cve']['description']['description_data'][0]['value'])\n",
    "    cve_dic = {'cve_id':cve_id_list,'cwe_id':cve_cwe_list,'descript':cve_des_list}\n",
    "    df = pd.DataFrame(cve_dic)\n",
    "    df = df[~df['cwe_id'].str.contains('noinfo')]\n",
    "    df.to_csv(path,header=False,index = False)"
   ]
  },
  {
   "cell_type": "code",
   "execution_count": 14,
   "id": "a87a76ab",
   "metadata": {},
   "outputs": [],
   "source": [
    "year = '2016'\n",
    "path = '..\\\\data\\\\clean\\\\nvdcve-1.1-'+year+'.csv'\n",
    "if __name__ == '__main__':\n",
    "    json_to_csv_override(year,path)"
   ]
  },
  {
   "cell_type": "code",
   "execution_count": null,
   "id": "12990527",
   "metadata": {},
   "outputs": [],
   "source": [
    "with open('..\\\\data\\\\raw\\\\nvdcve_json\\\\nvdcve-1.1-'+year+'.json','r',encoding='utf-8') as f:\n",
    "        data = json.load(f)\n",
    "list_y = data['CVE_Items']\n",
    "cve = list_y[0]\n",
    "cwe_value_pre = cve['cve']['problemtype']['problemtype_data'][0]['description']\n",
    "cwe_value_pre\n",
    "# for value in cwe_value_pre:\n",
    "#     cwe_value = value"
   ]
  }
 ],
 "metadata": {
  "kernelspec": {
   "display_name": "Python 3 (ipykernel)",
   "language": "python",
   "name": "python3"
  },
  "language_info": {
   "codemirror_mode": {
    "name": "ipython",
    "version": 3
   },
   "file_extension": ".py",
   "mimetype": "text/x-python",
   "name": "python",
   "nbconvert_exporter": "python",
   "pygments_lexer": "ipython3",
   "version": "3.7.15"
  }
 },
 "nbformat": 4,
 "nbformat_minor": 5
}
